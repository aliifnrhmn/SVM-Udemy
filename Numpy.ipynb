{
 "cells": [
  {
   "cell_type": "markdown",
   "id": "ed52fda6",
   "metadata": {},
   "source": [
    "# Support Vector Machines in Python: SVM Concepts & Code\n",
    "## Course by Start-Tech Academy on Udemy"
   ]
  },
  {
   "cell_type": "markdown",
   "id": "6e69b4c6",
   "metadata": {},
   "source": [
    "### Numpy"
   ]
  },
  {
   "cell_type": "code",
   "execution_count": 3,
   "id": "ebc4b334",
   "metadata": {},
   "outputs": [],
   "source": [
    "import numpy as np"
   ]
  },
  {
   "cell_type": "code",
   "execution_count": 4,
   "id": "ac44fec7",
   "metadata": {},
   "outputs": [],
   "source": [
    "# initialize numpy array\n",
    "# we can make our own array\n",
    "np1 = np.array([1, 2, 3, 4])"
   ]
  },
  {
   "cell_type": "code",
   "execution_count": 5,
   "id": "332b22e1",
   "metadata": {},
   "outputs": [
    {
     "data": {
      "text/plain": [
       "array([1, 2, 3, 4])"
      ]
     },
     "execution_count": 5,
     "metadata": {},
     "output_type": "execute_result"
    }
   ],
   "source": [
    "np1"
   ]
  },
  {
   "cell_type": "code",
   "execution_count": 6,
   "id": "940f573c",
   "metadata": {},
   "outputs": [
    {
     "data": {
      "text/plain": [
       "numpy.ndarray"
      ]
     },
     "execution_count": 6,
     "metadata": {},
     "output_type": "execute_result"
    }
   ],
   "source": [
    "type(np1)"
   ]
  },
  {
   "cell_type": "code",
   "execution_count": 7,
   "id": "7bee997b",
   "metadata": {},
   "outputs": [],
   "source": [
    "# create a matrix\n",
    "# basically matrices are lists containing other lists\n",
    "mat1 = np.array([[1, 2], [3, 4]])"
   ]
  },
  {
   "cell_type": "code",
   "execution_count": 8,
   "id": "22394fd9",
   "metadata": {},
   "outputs": [
    {
     "data": {
      "text/plain": [
       "array([[1, 2],\n",
       "       [3, 4]])"
      ]
     },
     "execution_count": 8,
     "metadata": {},
     "output_type": "execute_result"
    }
   ],
   "source": [
    "mat1"
   ]
  },
  {
   "cell_type": "code",
   "execution_count": 9,
   "id": "8205fdc5",
   "metadata": {},
   "outputs": [
    {
     "data": {
      "text/plain": [
       "numpy.ndarray"
      ]
     },
     "execution_count": 9,
     "metadata": {},
     "output_type": "execute_result"
    }
   ],
   "source": [
    "type(mat1) # it's still a numpy array"
   ]
  },
  {
   "cell_type": "code",
   "execution_count": 14,
   "id": "5e8ae363",
   "metadata": {},
   "outputs": [
    {
     "data": {
      "text/plain": [
       "(4,)"
      ]
     },
     "execution_count": 14,
     "metadata": {},
     "output_type": "execute_result"
    }
   ],
   "source": [
    "# we can tell matrices dimension with shape function\n",
    "np1.shape"
   ]
  },
  {
   "cell_type": "code",
   "execution_count": 15,
   "id": "cbc1a612",
   "metadata": {},
   "outputs": [
    {
     "data": {
      "text/plain": [
       "(2, 2)"
      ]
     },
     "execution_count": 15,
     "metadata": {},
     "output_type": "execute_result"
    }
   ],
   "source": [
    "mat1.shape"
   ]
  },
  {
   "cell_type": "code",
   "execution_count": 16,
   "id": "34ae1b92",
   "metadata": {},
   "outputs": [
    {
     "data": {
      "text/plain": [
       "dtype('int32')"
      ]
     },
     "execution_count": 16,
     "metadata": {},
     "output_type": "execute_result"
    }
   ],
   "source": [
    "# we can only put one data type on numpy arrays\n",
    "# we can check the data type with dtype function\n",
    "mat1.dtype"
   ]
  },
  {
   "cell_type": "code",
   "execution_count": 17,
   "id": "bcc00bc1",
   "metadata": {},
   "outputs": [
    {
     "name": "stdout",
     "output_type": "stream",
     "text": [
      "before:\n"
     ]
    },
    {
     "data": {
      "text/plain": [
       "array([[1, 2],\n",
       "       [3, 4]])"
      ]
     },
     "execution_count": 17,
     "metadata": {},
     "output_type": "execute_result"
    }
   ],
   "source": [
    "# we can assign a value to the matrices by specifying it with equal operator\n",
    "print(\"before:\")\n",
    "mat1"
   ]
  },
  {
   "cell_type": "code",
   "execution_count": 19,
   "id": "d8e7b2dd",
   "metadata": {},
   "outputs": [
    {
     "name": "stdout",
     "output_type": "stream",
     "text": [
      "after:\n"
     ]
    },
    {
     "data": {
      "text/plain": [
       "array([[5, 2],\n",
       "       [3, 4]])"
      ]
     },
     "execution_count": 19,
     "metadata": {},
     "output_type": "execute_result"
    }
   ],
   "source": [
    "mat1[0, 0] = 5 # assign the first data of the first list to 5\n",
    "print(\"after:\")\n",
    "mat1"
   ]
  },
  {
   "cell_type": "code",
   "execution_count": 21,
   "id": "0c16b0b8",
   "metadata": {},
   "outputs": [],
   "source": [
    "# we use \"range\" to make a sequence in python lists\n",
    "# we use \"arange\" to make a sequence in numpy lists\n",
    "mat2 = np.arange(0, 10, 1)"
   ]
  },
  {
   "cell_type": "code",
   "execution_count": 22,
   "id": "221f1012",
   "metadata": {},
   "outputs": [
    {
     "data": {
      "text/plain": [
       "array([0, 1, 2, 3, 4, 5, 6, 7, 8, 9])"
      ]
     },
     "execution_count": 22,
     "metadata": {},
     "output_type": "execute_result"
    }
   ],
   "source": [
    "mat2 # similar to python lists (first, last, step)"
   ]
  },
  {
   "cell_type": "code",
   "execution_count": 25,
   "id": "69ed04fd",
   "metadata": {},
   "outputs": [],
   "source": [
    "mat3 = np.linspace(0, 10, 20)\n",
    "# i guess \"linspace\" is linear space\n",
    "# so we will generate an array starts with 0 and ends with 9\n",
    "# with 20 values, divided linearly (?)"
   ]
  },
  {
   "cell_type": "code",
   "execution_count": 29,
   "id": "fbb42e49",
   "metadata": {},
   "outputs": [
    {
     "data": {
      "text/plain": [
       "array([ 0.        ,  0.52631579,  1.05263158,  1.57894737,  2.10526316,\n",
       "        2.63157895,  3.15789474,  3.68421053,  4.21052632,  4.73684211,\n",
       "        5.26315789,  5.78947368,  6.31578947,  6.84210526,  7.36842105,\n",
       "        7.89473684,  8.42105263,  8.94736842,  9.47368421, 10.        ])"
      ]
     },
     "execution_count": 29,
     "metadata": {},
     "output_type": "execute_result"
    }
   ],
   "source": [
    "mat3\n",
    "# \"Return evenly spaced numbers over a specified interval.\"\n",
    "# definition by the official documentation"
   ]
  },
  {
   "cell_type": "code",
   "execution_count": 34,
   "id": "a67e2e95",
   "metadata": {},
   "outputs": [],
   "source": [
    "mat4 = np.random.randint(2, size=(5, 5))\n",
    "# random, yeah, self explanatory\n",
    "# generates random values\n",
    "# randint generates integers, 2 means 0 and 1\n",
    "# if we change 2 to 5 it would generate values between 0 to 4\n",
    "mat5 = np.random.randint(5, size=(5, 5))\n",
    "# there are so many types of random, go to docs for more"
   ]
  },
  {
   "cell_type": "code",
   "execution_count": 37,
   "id": "04123787",
   "metadata": {},
   "outputs": [
    {
     "name": "stdout",
     "output_type": "stream",
     "text": [
      "[[1 0 0 0 1]\n",
      " [1 1 0 0 1]\n",
      " [1 0 0 1 0]\n",
      " [0 0 0 1 1]\n",
      " [0 0 0 0 0]]\n",
      "[[0 1 3 1 1]\n",
      " [0 1 3 3 4]\n",
      " [3 0 0 2 1]\n",
      " [0 2 0 4 2]\n",
      " [1 1 2 2 1]]\n"
     ]
    }
   ],
   "source": [
    "print(mat4)\n",
    "print(mat5)"
   ]
  }
 ],
 "metadata": {
  "kernelspec": {
   "display_name": "Python 3 (ipykernel)",
   "language": "python",
   "name": "python3"
  },
  "language_info": {
   "codemirror_mode": {
    "name": "ipython",
    "version": 3
   },
   "file_extension": ".py",
   "mimetype": "text/x-python",
   "name": "python",
   "nbconvert_exporter": "python",
   "pygments_lexer": "ipython3",
   "version": "3.9.6"
  }
 },
 "nbformat": 4,
 "nbformat_minor": 5
}
